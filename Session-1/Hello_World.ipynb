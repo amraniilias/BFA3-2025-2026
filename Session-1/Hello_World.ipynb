{
 "cells": [
  {
   "cell_type": "markdown",
   "id": "aee1a325-cc5e-4466-acbf-78e0e5b1bd4e",
   "metadata": {},
   "source": [
    "### Test 1: Simple run\n",
    "#### Select The cell bellow and click on run (the triangle in the tool bar ). \n",
    "#### If you see 'hello world' printed bellow the cell, congrats you ran your first python script on Jupyter notebook."
   ]
  },
  {
   "cell_type": "code",
   "execution_count": null,
   "id": "c075cba8-563a-427f-a97f-0fad3d9e9e37",
   "metadata": {},
   "outputs": [],
   "source": [
    "print('hello world')"
   ]
  },
  {
   "cell_type": "markdown",
   "id": "e3876c50-1ca8-490f-aca2-94e312a403b8",
   "metadata": {},
   "source": [
    "### Test 2: Import an existing module (datetime is part of Python Standard Library)\n",
    "#### Now let’s test if imports work. Run the following cell:"
   ]
  },
  {
   "cell_type": "code",
   "execution_count": null,
   "id": "b3252a8d-9ec7-4590-b609-1ede021cb54d",
   "metadata": {},
   "outputs": [],
   "source": [
    "import datetime\n",
    "print(\"The current time is:\", datetime.datetime.now())"
   ]
  },
  {
   "cell_type": "markdown",
   "id": "01202b4e-9fe2-4502-8a49-5fcd44486ed6",
   "metadata": {},
   "source": [
    "### Test 3: Math & Variables\n",
    "#### Try a little math:"
   ]
  },
  {
   "cell_type": "code",
   "execution_count": null,
   "id": "e85a753c-3952-4d76-8db5-a5ab64ef2418",
   "metadata": {},
   "outputs": [],
   "source": [
    "x = 5\n",
    "y = 7\n",
    "print(\"x + y =\", x + y)"
   ]
  },
  {
   "cell_type": "markdown",
   "id": "7036e7bd-3bd8-47e3-b90e-553a07b5c9f3",
   "metadata": {},
   "source": [
    "### Test 4: import missing module and observe the error.\n",
    "#### When you try to import a module that is not installed, you will encounter an error message.\n",
    "#### Let’s try it: "
   ]
  },
  {
   "cell_type": "code",
   "execution_count": null,
   "id": "87b4a5bb-7f6b-40f2-87fe-38c6180113c5",
   "metadata": {},
   "outputs": [],
   "source": [
    "from tqdm import tqdm"
   ]
  },
  {
   "cell_type": "markdown",
   "id": "c6397cc8-db3c-44d9-9aa6-bdc32023b63f",
   "metadata": {},
   "source": [
    "### Test 5: install missing module directly via the notebook.\n",
    "#### If a module is missing you can directly install it using : '!pip install module_name'\n",
    "#### Try it by running the next two cells:"
   ]
  },
  {
   "cell_type": "code",
   "execution_count": null,
   "id": "bd25bfa2-d128-463b-9248-f7ec47c3e78b",
   "metadata": {},
   "outputs": [],
   "source": [
    "! pip3 install tqdm"
   ]
  },
  {
   "cell_type": "code",
   "execution_count": null,
   "id": "e18aa62b-109b-4a44-bfaf-1ec7e11c6a40",
   "metadata": {},
   "outputs": [],
   "source": [
    "from tqdm import tqdm\n",
    "import time\n",
    "\n",
    "for i in tqdm(range(0, 5)):\n",
    "    print(f'resultat {i}')\n",
    "    time.sleep(1)"
   ]
  },
  {
   "cell_type": "markdown",
   "id": "7c1063d0-3c76-4faf-9f9e-b4b73e63a831",
   "metadata": {},
   "source": [
    "### Test 6: Stop an infinit loop\n",
    "#### In some cases we need to stop the run of a cell, in this case we press the rectangle in the tool bar.\n",
    "#### In the next cell we will create an infinit loop and stop it. "
   ]
  },
  {
   "cell_type": "code",
   "execution_count": null,
   "id": "db33a77b-8936-40ec-b549-908ce2e4f3d2",
   "metadata": {},
   "outputs": [],
   "source": [
    "i = 0\n",
    "while True:\n",
    "    print(f'Stop me: {i}')\n",
    "    i+=1\n",
    "    time.sleep(1)\n",
    "    "
   ]
  },
  {
   "cell_type": "markdown",
   "id": "fcc83a39-9ad6-4eb8-bfb1-3ff6715b00f9",
   "metadata": {},
   "source": [
    "### Test 7: Plot results\n",
    "#### Run the two next cells, the first installs a lib that we will use for plotting and the second will run a test plot."
   ]
  },
  {
   "cell_type": "code",
   "execution_count": null,
   "id": "36d00dce-3a32-454f-ba7a-c9aa365d6e5a",
   "metadata": {},
   "outputs": [],
   "source": [
    "! pip install matplotlib"
   ]
  },
  {
   "cell_type": "code",
   "execution_count": null,
   "id": "ae19cafc-ba2d-4732-8da9-aade6a6fb18e",
   "metadata": {},
   "outputs": [],
   "source": [
    "import matplotlib.pyplot as plt\n",
    "\n",
    "plt.plot([1, 2, 3, 4], [10, 20, 25, 30])\n",
    "plt.title(\"Test Plot\")\n",
    "plt.show()"
   ]
  },
  {
   "cell_type": "code",
   "execution_count": null,
   "id": "c7bd285d-a44b-4bf5-8421-359e57d4f0ed",
   "metadata": {},
   "outputs": [],
   "source": []
  }
 ],
 "metadata": {
  "kernelspec": {
   "display_name": "Python 3.10 (Homebrew)",
   "language": "python",
   "name": "python310"
  },
  "language_info": {
   "codemirror_mode": {
    "name": "ipython",
    "version": 3
   },
   "file_extension": ".py",
   "mimetype": "text/x-python",
   "name": "python",
   "nbconvert_exporter": "python",
   "pygments_lexer": "ipython3",
   "version": "3.10.16"
  }
 },
 "nbformat": 4,
 "nbformat_minor": 5
}
