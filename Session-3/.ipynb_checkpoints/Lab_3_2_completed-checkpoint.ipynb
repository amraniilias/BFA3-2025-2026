{
 "cells": [
  {
   "cell_type": "markdown",
   "id": "efbf78ba",
   "metadata": {},
   "source": [
    "<hr style=\"border-width:2px;border-color:#094780\">\n",
    "<center><h1> Build your own objects </h1></center>\n",
    "<hr style=\"border-width:2px;border-color:#094780\">"
   ]
  },
  {
   "cell_type": "markdown",
   "id": "62a31fe0-659d-4ea0-8cd5-0b2a5e711ce4",
   "metadata": {},
   "source": [
    "## Introduction to Object-Oriented Programming (OOP) <a id=\"intro\"></a>\n",
    "\n",
    "Object\u2011Oriented Programming (OOP) is a way of structuring programs around **objects**\u2014bundles of *state* (data/attributes) and *behavior* (functions/methods) that act together. Instead of writing one long script that passes lots of variables around (procedural style), OOP lets you model the world in terms of **classes** (blueprints) and **instances** (concrete objects created from those blueprints).\n",
    "\n",
    "Why this matters:\n",
    "- **Modularity & readability** \u2013 related data and functions live together inside a class.\n",
    "- **Reusability** \u2013 you can create many instances from the same class and extend behavior via inheritance or composition.\n",
    "- **Maintainability** \u2013 changes localize to the class that owns the behavior.\n",
    "- **Domain modeling** \u2013 classes map cleanly to real\u2011world concepts (e.g., `Rectangle`, `Account`, `Loan`).\n",
    "\n",
    "The four core OOP ideas you will see in this lab:\n",
    "- **Encapsulation** \u2013 keep an object\u2019s internals (attributes) controlled behind methods/properties.\n",
    "- **Abstraction** \u2013 expose only what users of your class need; hide unnecessary details.\n",
    "- **Inheritance** \u2013 define a new class by specializing an existing one.\n",
    "- **Polymorphism** \u2013 code that works with a *general* interface (e.g., a `.fly()` method) can accept many different concrete types.\n",
    "\n",
    "> Python is a *dynamic, duck\u2011typed* language: you rarely declare types in the class body, and if two objects provide the methods you need, they\u2019re interchangeable. Python also supports multiple inheritance (with care), and provides rich **special (\u201cdunder\u201d) methods** so your classes behave like built\u2011ins (e.g., support `+`, comparisons, iteration).\n",
    "\n",
    "### Summary :\n",
    "- <a href=\"#C1\">Classes & Objects</a>\n",
    "- <a href=\"#C2\">Methods, `self`, and method types</a>\n",
    "- <a href=\"#C3\">Encapsulation & Abstraction</a>\n",
    "- <a href=\"#C4\">Inheritance & Polymorphism</a>\n",
    "- <a href=\"#C5\">Special (dunder) methods & operator overloading</a>\n",
    "- <a href=\"#C6\">Composition (has\u2011a)</a>\n",
    "- <a href=\"#C7\">Best practices & tips</a>\n",
    "- <a href=\"#ex\">Exercises</a>\n"
   ]
  },
  {
   "cell_type": "code",
   "execution_count": 1,
   "id": "af183626-b1d1-46b1-9288-76752acdd81d",
   "metadata": {},
   "outputs": [],
   "source": [
    "# Traditional procedural approach\n",
    "def area_rectangle(width, height):\n",
    "    return width * height\n",
    "\n",
    "# OOP approach\n",
    "class Rectangle:\n",
    "    def __init__(self, width, height):\n",
    "        self.width = width\n",
    "        self.height = height\n",
    "    \n",
    "    def area(self):\n",
    "        return self.width * self.height"
   ]
  },
  {
   "cell_type": "markdown",
   "id": "aab62809-76ae-4d69-871f-137d202ff20e",
   "metadata": {},
   "source": [
    "## Classes and objects"
   ]
  },
  {
   "cell_type": "markdown",
   "metadata": {},
   "source": [
    "## Classes & Objects <a id=\"C1\"></a>\n",
    "\n",
    "A **class** defines the *shape* of future objects: which attributes they have and which methods operate on them. An **instance** (object) is created by *calling* the class like a function (e.g., `Rectangle(3, 4)`).\n",
    "\n",
    "Key terms:\n",
    "- **Attributes** \u2013 data stored on the instance (e.g., `self.width`).\n",
    "- **Instance** \u2013 a specific object created from a class (e.g., `rect1`).\n",
    "- **Constructor** \u2013 the `__init__` method that runs immediately after the instance is created.\n",
    "- **Method** \u2013 a function defined inside a class; it automatically receives the instance as the first parameter, traditionally named `self`.\n",
    "\n",
    "**Linked code snippet (procedural vs OOP \u2013 `Rectangle`):**\n",
    "\n",
    "```python\n",
    "# Procedural\n",
    "def area_rectangle(width, height):\n",
    "    return width * height\n",
    "\n",
    "# OOP\n",
    "class Rectangle:\n",
    "    def __init__(self, width, height):\n",
    "        self.width = width        # instance attribute\n",
    "        self.height = height\n",
    "    def area(self):\n",
    "        return self.width * self.height\n",
    "```\n",
    "\n",
    "**Explanation:**\n",
    "- The procedural version requires you to pass `width` and `height` *every time*.\n",
    "- The OOP version **binds state to behavior**. After `rect = Rectangle(3, 4)`, the data lives *inside* `rect`, and `rect.area()` uses that state.\n",
    "- `__init__` assigns attributes on `self` so each instance can carry its own values.\n",
    "- If you later add `perimeter()` or `scale(factor)`, all behaviors remain grouped inside `Rectangle`\u2014clean and maintainable.\n"
   ]
  },
  {
   "cell_type": "code",
   "execution_count": 2,
   "id": "e142aeee-c5af-4647-9a58-6ce3a876b8e6",
   "metadata": {},
   "outputs": [
    {
     "name": "stdout",
     "output_type": "stream",
     "text": [
      "Toyota Corolla\n",
      "4\n"
     ]
    }
   ],
   "source": [
    "class Car:\n",
    "    # Class variable\n",
    "    wheels = 4\n",
    "\n",
    "    def __init__(self, make, model):\n",
    "        # Instance variables\n",
    "        self.make = make\n",
    "        self.model = model\n",
    "\n",
    "car1 = Car('Toyota', 'Corolla')\n",
    "print(car1.make, car1.model)  # Output: Toyota Corolla\n",
    "print(car1.wheels)  # Output: 4\n"
   ]
  },
  {
   "cell_type": "markdown",
   "id": "8cee0b2a-5296-41a1-92ba-7a717519b023",
   "metadata": {},
   "source": [
    "## Methods and Self"
   ]
  },
  {
   "cell_type": "markdown",
   "metadata": {},
   "source": [
    "## Methods, `self`, and method types <a id=\"C2\"></a>\n",
    "\n",
    "`self` is the **instance being operated on**. Python passes it automatically to instance methods; you just write `def method(self, ...)`.\n",
    "\n",
    "There are **three** common method flavors:\n",
    "\n",
    "1) **Instance methods** (default) \u2013 operate on *a specific object* and can read/write `self`:\n",
    "```python\n",
    "class Calculator:\n",
    "    def add(self, x, y):\n",
    "        return x + y\n",
    "```\n",
    "\n",
    "2) **Class methods** \u2013 operate on the *class itself*; the first parameter is conventionally `cls`. Use for **alternative constructors** or behavior tied to the class, not any one instance:\n",
    "```python\n",
    "class Calculator:\n",
    "    @classmethod\n",
    "    def info(cls):\n",
    "        return \"This is a calculator class\"\n",
    "```\n",
    "\n",
    "3) **Static methods** \u2013 namespace a helper function on the class; they don\u2019t touch `self` or `cls`:\n",
    "```python\n",
    "class Calculator:\n",
    "    @staticmethod\n",
    "    def subtract(x, y):\n",
    "        return x - y\n",
    "```\n",
    "\n",
    "**Linked code snippet (`Calculator`):**\n",
    "```python\n",
    "class Calculator:\n",
    "    def add(self, x, y):\n",
    "        return x + y\n",
    "    \n",
    "    @staticmethod\n",
    "    def subtract(x, y):\n",
    "        return x - y\n",
    "\n",
    "    @classmethod\n",
    "    def info(cls):\n",
    "        return \"This is a calculator class\"\n",
    "```\n",
    "- `add` is an **instance method** (requires an instance: `Calculator().add(5, 3)`).\n",
    "- `subtract` is a **static method** (call via `Calculator.subtract(5, 3)`).\n",
    "- `info` is a **class method** (call via `Calculator.info()`).\n",
    "\n",
    "### Class vs. instance attributes\n",
    "A **class attribute** is shared by *all* instances; an **instance attribute** belongs to just one object.\n",
    "\n",
    "**Linked code snippet (`Car` \u2013 class vs instance attributes):**\n",
    "```python\n",
    "class Car:\n",
    "    # class attribute\n",
    "    wheels = 4\n",
    "\n",
    "    def __init__(self, make, model):\n",
    "        # instance attributes\n",
    "        self.make = make\n",
    "        self.model = model\n",
    "\n",
    "car1 = Car('Toyota', 'Corolla')\n",
    "print(car1.make, car1.model)   # instance data\n",
    "print(car1.wheels)             # falls back to class attribute (4)\n",
    "```\n",
    "\n",
    "Attribute lookup order: **instance \u2192 class \u2192 base classes (MRO)**. If you set `car1.wheels = 6`, you create an *instance attribute* that shadows the class attribute *only for that object*.\n"
   ]
  },
  {
   "cell_type": "code",
   "execution_count": 3,
   "id": "f6abf01b-a6dc-470d-b9b2-72924c490d84",
   "metadata": {},
   "outputs": [
    {
     "name": "stdout",
     "output_type": "stream",
     "text": [
      "8\n",
      "2\n",
      "This is a calculator class\n"
     ]
    }
   ],
   "source": [
    "class Calculator:\n",
    "    def add(self, x, y):\n",
    "        return x + y\n",
    "    \n",
    "    @staticmethod\n",
    "    def subtract(x, y):\n",
    "        return x - y\n",
    "\n",
    "    @classmethod\n",
    "    def info(cls):\n",
    "        return \"This is a calculator class\"\n",
    "\n",
    "print(Calculator().add(5, 3))       # Output: 8\n",
    "print(Calculator.subtract(5, 3))    # Output: 2\n",
    "print(Calculator.info())            # Output: This is a calculator class\n"
   ]
  },
  {
   "cell_type": "markdown",
   "id": "d701dbfb-30c8-432e-9009-64d2e32da7c6",
   "metadata": {},
   "source": [
    "## Encapsulation and Abstraction"
   ]
  },
  {
   "cell_type": "markdown",
   "metadata": {},
   "source": [
    "## Encapsulation & Abstraction <a id=\"C3\"></a>\n",
    "\n",
    "**Encapsulation** means an object controls access to its internal state. In Python we rely on **conventions** more than hard access modifiers:\n",
    "\n",
    "- `public`: no underscore \u2013 intended API (e.g., `obj.name`).\n",
    "- `_protected`: single underscore \u2013 \u201cinternal use\u201d; please don\u2019t touch outside the class.\n",
    "- `__private`: double underscore \u2013 triggers **name mangling** to reduce accidental access: `obj._ClassName__attr`.\n",
    "\n",
    "**Linked code snippet (`Employee` \u2013 private data with getters/setters):**\n",
    "```python\n",
    "class Employee:\n",
    "    def __init__(self, name, salary):\n",
    "        self.name = name\n",
    "        self.__salary = salary  # private (name-mangled)\n",
    "\n",
    "    def get_salary(self):\n",
    "        return self.__salary\n",
    "\n",
    "    def set_salary(self, new_salary):\n",
    "        if new_salary > 0:\n",
    "            self.__salary = new_salary\n",
    "```\n",
    "- `__salary` becomes `_Employee__salary` behind the scenes (name\u2011mangling). This discourages (but doesn\u2019t forbid) outside access.\n",
    "- The methods validate before mutating state.\n",
    "\n",
    "**Abstraction** is about exposing a *simple surface* and hiding unnecessary detail. A common Pythonic tool is the **property**:\n",
    "\n",
    "```python\n",
    "class Employee:\n",
    "    def __init__(self, name, salary):\n",
    "        self.name = name\n",
    "        self._salary = salary\n",
    "\n",
    "    @property\n",
    "    def salary(self):\n",
    "        return self._salary\n",
    "\n",
    "    @salary.setter\n",
    "    def salary(self, new_salary):\n",
    "        if new_salary <= 0:\n",
    "            raise ValueError(\"Salary must be positive\")\n",
    "        self._salary = new_salary\n",
    "```\n",
    "Users write `emp.salary = 60000` and `emp.salary`\u2014cleaner than `get_/set_` names, while still enforcing your rules.\n"
   ]
  },
  {
   "cell_type": "code",
   "execution_count": 5,
   "id": "a5558d94-70d0-409a-80ee-33568482c816",
   "metadata": {},
   "outputs": [
    {
     "name": "stdout",
     "output_type": "stream",
     "text": [
      "50000\n",
      "60000\n"
     ]
    }
   ],
   "source": [
    "class Employee:\n",
    "    def __init__(self, name, salary):\n",
    "        self.name = name\n",
    "        self.__salary = salary  # Private variable\n",
    "\n",
    "    def get_salary(self):\n",
    "        return self.__salary\n",
    "\n",
    "    def set_salary(self, new_salary):\n",
    "        if new_salary > 0:\n",
    "            self.__salary = new_salary\n",
    "\n",
    "emp = Employee(\"Alice\", 50000)\n",
    "print(emp.get_salary())  # Output: 50000\n",
    "emp.set_salary(60000)\n",
    "print(emp.get_salary())  # Output: 60000\n"
   ]
  },
  {
   "cell_type": "markdown",
   "id": "a5156c32-33a6-4347-a24c-55fc8ff99100",
   "metadata": {},
   "source": [
    "## Inheritance"
   ]
  },
  {
   "cell_type": "markdown",
   "metadata": {},
   "source": [
    "## Inheritance & Polymorphism <a id=\"C4\"></a>\n",
    "\n",
    "**Inheritance** lets a class reuse and specialize another class\u2019s behavior.\n",
    "\n",
    "**Linked code snippet (`Animal` \u2192 `Dog` \u2013 method override):**\n",
    "```python\n",
    "class Animal:\n",
    "    def __init__(self, name):\n",
    "        self.name = name\n",
    "    def speak(self):\n",
    "        return f\"{self.name} makes a sound.\"\n",
    "\n",
    "class Dog(Animal):\n",
    "    def speak(self):\n",
    "        return f\"{self.name} barks.\"\n",
    "```\n",
    "- `Dog` *inherits* `__init__` from `Animal` and **overrides** `speak`.\n",
    "- `super()` calls the parent implementation when you need it.\n",
    "\n",
    "**Polymorphism** is *\u201cmany forms\u201d*\u2014code written against a general interface works for many types. Python encourages **duck typing**: *if it quacks like a duck, it\u2019s a duck*.\n",
    "\n",
    "**Linked code snippet (duck typing: anything with `.fly()` will do):**\n",
    "```python\n",
    "class Bird:\n",
    "    def fly(self):\n",
    "        print(\"Flying\")\n",
    "\n",
    "class Airplane:\n",
    "    def fly(self):\n",
    "        print(\"Flying with fuel\")\n",
    "\n",
    "def let_it_fly(entity):\n",
    "    entity.fly()\n",
    "```\n",
    "- `let_it_fly` doesn\u2019t care *what* `entity` is\u2014only that it has a `.fly()` method.\n",
    "- This avoids brittle type checks and makes code easy to extend.\n",
    "\n",
    "> Multiple inheritance exists in Python; use it sparingly (prefer **composition** and **mixins**). Python resolves methods by the **MRO** (method resolution order), which you can inspect via `ClassName.mro()`.\n"
   ]
  },
  {
   "cell_type": "code",
   "execution_count": 5,
   "id": "14b9debb-f652-4de6-b839-feabb2f4aeca",
   "metadata": {},
   "outputs": [
    {
     "name": "stdout",
     "output_type": "stream",
     "text": [
      "Rex barks.\n"
     ]
    }
   ],
   "source": [
    "class Animal:\n",
    "    def __init__(self, name):\n",
    "        self.name = name\n",
    "    \n",
    "    def speak(self):\n",
    "        return f\"{self.name} makes a sound.\"\n",
    "\n",
    "class Dog(Animal):\n",
    "    def speak(self):\n",
    "        return f\"{self.name} barks.\"\n",
    "\n",
    "dog = Dog(\"Rex\")\n",
    "print(dog.speak())  # Output: Rex barks\n"
   ]
  },
  {
   "cell_type": "markdown",
   "id": "e43adb51-dbfb-445e-910e-095be8db8f78",
   "metadata": {},
   "source": [
    "## Polymorphism\n",
    "\n",
    "Polymorphism in programming refers to the ability of a function, method, or object to take on multiple forms. In object-oriented programming (OOP), polymorphism allows methods in different classes to have the same name but behave differently depending on the object that calls the method.\n"
   ]
  },
  {
   "cell_type": "code",
   "execution_count": 6,
   "id": "86f919b1-70bf-41de-9396-3a90ef4910ba",
   "metadata": {},
   "outputs": [
    {
     "name": "stdout",
     "output_type": "stream",
     "text": [
      "Flying\n",
      "Flying with fuel\n"
     ]
    }
   ],
   "source": [
    "class Bird:\n",
    "    def fly(self):\n",
    "        print(\"Flying\")\n",
    "\n",
    "class Airplane:\n",
    "    def fly(self):\n",
    "        print(\"Flying with fuel\")\n",
    "\n",
    "def let_it_fly(entity):\n",
    "    entity.fly()\n",
    "\n",
    "bird = Bird()\n",
    "airplane = Airplane()\n",
    "\n",
    "let_it_fly(bird)      # Output: Flying\n",
    "let_it_fly(airplane)  # Output: Flying with fuel\n"
   ]
  },
  {
   "cell_type": "markdown",
   "id": "3f8d79b9-d247-4fa7-a8a3-5727389c21a4",
   "metadata": {},
   "source": [
    "## Magic Methods (Dunder Methods)"
   ]
  },
  {
   "cell_type": "markdown",
   "metadata": {},
   "source": [
    "## Special (dunder) methods & operator overloading <a id=\"C5\"></a>\n",
    "\n",
    "**Special methods** (a.k.a. *dunder* methods) integrate your class with Python\u2019s syntax and built\u2011ins:\n",
    "\n",
    "- `__repr__/__str__` \u2013 developer/user\u2011friendly string forms\n",
    "- arithmetic: `__add__`, `__sub__`, \u2026\n",
    "- comparisons: `__eq__`, `__lt__`, \u2026\n",
    "- container protocol: `__len__`, `__iter__`, `__getitem__`, \u2026\n",
    "\n",
    "**Linked code snippet (`Point` \u2013 `__add__` and `__repr__`):**\n",
    "```python\n",
    "class Point:\n",
    "    def __init__(self, x, y):\n",
    "        self.x = x; self.y = y\n",
    "    def __add__(self, other):\n",
    "        return Point(self.x + other.x, self.y + other.y)\n",
    "    def __repr__(self):\n",
    "        return f\"Point({self.x}, {self.y})\"\n",
    "```\n",
    "- `p1 + p2` calls `p1.__add__(p2)` and returns a **new** `Point`.\n",
    "- `print(p1)` uses `__repr__`. Prefer a `__repr__` that unambiguously describes the object.\n",
    "\n",
    "Tips:\n",
    "- If an operation doesn\u2019t make sense for the other operand, return `NotImplemented`.\n",
    "- Consider `@dataclass(frozen=True)` for lightweight, immutable value objects.\n"
   ]
  },
  {
   "cell_type": "code",
   "execution_count": 7,
   "id": "8e03d6bb-5872-4cc5-875d-9537a02982ac",
   "metadata": {},
   "outputs": [
    {
     "name": "stdout",
     "output_type": "stream",
     "text": [
      "Point(4, 6)\n"
     ]
    }
   ],
   "source": [
    "class Point:\n",
    "    def __init__(self, x, y):\n",
    "        self.x = x\n",
    "        self.y = y\n",
    "\n",
    "    def __add__(self, other):\n",
    "        return Point(self.x + other.x, self.y + other.y)\n",
    "\n",
    "    def __repr__(self):\n",
    "        return f\"Point({self.x}, {self.y})\"\n",
    "\n",
    "p1 = Point(1, 2)\n",
    "p2 = Point(3, 4)\n",
    "print(p1 + p2)  # Output: Point(4, 6)\n"
   ]
  },
  {
   "cell_type": "markdown",
   "id": "1f3805b3-0878-4350-8515-bf6289650870",
   "metadata": {},
   "source": [
    "## Composition"
   ]
  },
  {
   "cell_type": "markdown",
   "metadata": {},
   "source": [
    "## Composition (has\u2011a) <a id=\"C6\"></a>\n",
    "\n",
    "**Composition** models *\u201chas\u2011a\u201d* relationships by **containing** other objects as attributes. It\u2019s often simpler and more flexible than inheritance.\n",
    "\n",
    "**Linked code snippet (`Car` has an `Engine`):**\n",
    "```python\n",
    "class Engine:\n",
    "    def start(self):\n",
    "        return \"Engine started\"\n",
    "\n",
    "class Car:\n",
    "    def __init__(self):\n",
    "        self.engine = Engine()  # Car has an Engine\n",
    "    def start(self):\n",
    "        return self.engine.start()\n",
    "```\n",
    "- `Car` *delegates* starting to its `engine`.\n",
    "- You can swap implementations (e.g., `ElectricMotor`) without changing `Car`\u02bcs public API\u2014classic **abstraction via composition**.\n"
   ]
  },
  {
   "cell_type": "code",
   "execution_count": 8,
   "id": "54c18b95-f9b3-4c67-b5c7-3545595f2f2c",
   "metadata": {},
   "outputs": [
    {
     "name": "stdout",
     "output_type": "stream",
     "text": [
      "Engine started\n"
     ]
    }
   ],
   "source": [
    "class Engine:\n",
    "    def start(self):\n",
    "        return \"Engine started\"\n",
    "\n",
    "class Car:\n",
    "    def __init__(self):\n",
    "        self.engine = Engine()  # Car has an Engine\n",
    "\n",
    "    def start(self):\n",
    "        return self.engine.start()\n",
    "\n",
    "my_car = Car()\n",
    "print(my_car.start())  # Output: Engine started\n"
   ]
  },
  {
   "cell_type": "markdown",
   "id": "6dede837-ed1a-4255-a06f-94f7c2758ebf",
   "metadata": {},
   "source": [
    "**Exercises**"
   ]
  },
  {
   "cell_type": "markdown",
   "metadata": {},
   "source": [
    "## Best practices & tips <a id=\"C7\"></a>\n",
    "\n",
    "- Prefer **composition** over deep inheritance hierarchies.\n",
    "- Keep classes **small** and **cohesive**; one clear responsibility.\n",
    "- Use **properties** for validation instead of bare attributes or manual `get_/set_`.\n",
    "- Leverage **type hints** to make APIs self\u2011documenting: `def area(self) -> float: ...`.\n",
    "- For simple data containers, consider `@dataclass`.\n",
    "- Avoid mutable default arguments (use `None` and assign inside `__init__`).\n",
    "- Distinguish **equality** vs **identity**: `==` vs `is`.\n",
    "- Remember attribute lookup order (instance \u2192 class \u2192 bases via MRO).\n",
    "- Write `__repr__` for easier debugging and logging.\n"
   ]
  },
  {
   "cell_type": "markdown",
   "metadata": {},
   "source": [
    "## Wrap\u2011up & what to practice next\n",
    "\n",
    "In this lab you saw how Python classes bundle **state** and **behavior**, how to define and use **methods** (instance, class, static), protect data via **encapsulation**, reuse/extend with **inheritance**, write interface\u2011driven code via **polymorphism**, enrich objects with **dunder methods**, and model real\u2011world relationships with **composition**.\n",
    "\n",
    "Next steps:\n",
    "- Implement the exercises below (Accounts, Stocks, Loans, Derivatives, Bonds).\n",
    "- Try adding `@property` and type hints to your solutions.\n",
    "- For stretch practice, add a `__str__`, `__eq__`, and `__lt__` to one of your classes and test sorting a list of instances.\n",
    "\n",
    "<a id=\"ex\"></a>Proceed to **Exercises** below.\n"
   ]
  },
  {
   "cell_type": "markdown",
   "id": "397d5caf-2015-4074-8686-6b489a52b613",
   "metadata": {},
   "source": [
    "\n",
    "**Exercise 1: Account Class**\n",
    "\n",
    "Create a class `Account` that represents a bank account. The class should have the following attributes:\n",
    "- `account_number` (a unique identifier),\n",
    "- `balance` (initially set to 0),\n",
    "- `account_holder` (name of the account holder).\n",
    "\n",
    "The class should have the following methods:\n",
    "- `deposit(amount)` to add money to the account,\n",
    "- `withdraw(amount)` to deduct money from the account (if sufficient balance),\n",
    "- `get_balance()` to print the current balance.\n"
   ]
  },
  {
   "cell_type": "markdown",
   "id": "dcf0a730",
   "metadata": {},
   "source": [
    "**Exercise 2: Stock Class**\n",
    "\n",
    "Create a class `Stock` to represent a stock in the stock market. Each stock should have the following attributes:\n",
    "- `symbol` (e.g., \"AAPL\" for Apple),\n",
    "- `price_per_share` (the current price of a share),\n",
    "- `shares_owned` (the number of shares the user owns).\n",
    "\n",
    "The class should have the following methods:\n",
    "- `buy_shares(quantity)` to increase the number of shares owned,\n",
    "- `sell_shares(quantity)` to decrease the number of shares (if the user owns enough),\n",
    "- `total_value()` to calculate and return the total value of the shares owned (price per share * number of shares).\n"
   ]
  },
  {
   "cell_type": "markdown",
   "id": "4daba73c",
   "metadata": {},
   "source": [
    "**Exercise 3: Loan Class**\n",
    "\n",
    "Create a class `Loan` that represents a loan taken by a customer. The class should have the following attributes:\n",
    "- `principal` (the initial loan amount),\n",
    "- `annual_interest_rate` (interest rate as a decimal, e.g., 0.05 for 5%),\n",
    "- `term_years` (the number of years for the loan).\n",
    "\n",
    "The class should have the following methods:\n",
    "- `monthly_payment()` to calculate and return the monthly payment based on the formula for a fixed-rate loan:\n",
    "  $$\n",
    "  \\text{Monthly Payment} = \\frac{P \\cdot r}{1 - (1 + r)^{-n}}\n",
    "  $$\n",
    "  Where:\n",
    "  - \\( P \\) = principal,\n",
    "  - \\( r \\) = monthly interest rate (annual rate / 12),\n",
    "  - \\( n \\) = total number of months (years * 12).\n",
    "  \n",
    "- `total_payment()` to return the total amount to be repaid over the entire loan term (monthly payment * number of months).\n"
   ]
  },
  {
   "cell_type": "markdown",
   "id": "ac83f843",
   "metadata": {},
   "source": [
    "**Exercise 4: Derivative and Stock Classes**\n",
    "\n",
    "Create a base class `Asset` that represents a financial asset. Then, create two subclasses, `Stock` and `Derivative`, that inherit from `Asset`. Each class will have specific attributes and methods related to market finance.\n",
    "\n",
    "Requirements:\n",
    "\n",
    "1. **Base Class: Asset**\n",
    "   - Attributes:\n",
    "     - `symbol` (e.g., \"AAPL\" for Apple stock).\n",
    "   - Method:\n",
    "     - `current_value()` should be implemented in the subclasses.\n",
    "\n",
    "2. **Subclass: Stock**\n",
    "   - Inherits from `Asset`.\n",
    "   - Additional Attributes:\n",
    "     - `price_per_share` (current price of a stock),\n",
    "     - `shares_owned` (number of shares owned).\n",
    "   - Method:\n",
    "     - `current_value()` that returns the total value of the stock (`price_per_share * shares_owned`).\n",
    "\n",
    "3. **Subclass: Derivative**\n",
    "   - Inherits from `Asset`.\n",
    "   - Additional Attributes:\n",
    "     - `underlying_asset` (an instance of `Stock` representing the stock that the derivative is based on),\n",
    "     - `multiplier` (a factor that scales the value of the derivative based on the underlying asset).\n",
    "   - Method:\n",
    "     - `current_value()` that returns the value of the derivative (`multiplier * underlying_asset.current_value()`).\n",
    "\n",
    "\n"
   ]
  },
  {
   "cell_type": "markdown",
   "id": "35fe6b21",
   "metadata": {},
   "source": [
    "**Exercise 5: Bond and CorporateBond Classes**\n",
    "\n",
    "In this exercise, you will create a system to model different types of bonds. There will be a base class `Bond` and a subclass `CorporateBond` to represent corporate bonds that come with a specific risk rating.\n",
    "\n",
    "Requirements:\n",
    "\n",
    "1. **Base Class: Bond**\n",
    "   - Attributes:\n",
    "     - `face_value` (the value paid at maturity, e.g., $1000),\n",
    "     - `coupon_rate` (the annual coupon rate, e.g., 0.05 for 5%),\n",
    "     - `years_to_maturity` (the number of years until the bond matures).\n",
    "   - Methods:\n",
    "     - `annual_coupon()` that returns the annual coupon payment (`face_value * coupon_rate`).\n",
    "     - `present_value()` that returns the present value of the bond, assuming a discount rate (`discount_rate` passed as a parameter).\n",
    "\n",
    "2. **Subclass: CorporateBond**\n",
    "   - Inherits from `Bond`.\n",
    "   - Additional Attributes:\n",
    "     - `rating` (the risk rating of the corporate bond, e.g., \"AAA\", \"BBB\").\n",
    "   - Override Method:\n",
    "     - Override `present_value()` to apply a **premium** or **discount** based on the bond's risk rating. \n",
    "     - Premium/Discount:\n",
    "       - \"AAA\" bonds add a 2% premium to the face value.\n",
    "       - \"BBB\" bonds subtract a 2% discount from the face value.\n"
   ]
  }
 ],
 "metadata": {
  "kernelspec": {
   "display_name": "Python 3 (ipykernel)",
   "language": "python",
   "name": "python3"
  },
  "language_info": {
   "codemirror_mode": {
    "name": "ipython",
    "version": 3
   },
   "file_extension": ".py",
   "mimetype": "text/x-python",
   "name": "python",
   "nbconvert_exporter": "python",
   "pygments_lexer": "ipython3",
   "version": "3.13.7"
  }
 },
 "nbformat": 4,
 "nbformat_minor": 5
}