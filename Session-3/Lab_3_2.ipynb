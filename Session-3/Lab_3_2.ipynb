{
 "cells": [
  {
   "cell_type": "markdown",
   "id": "efbf78ba",
   "metadata": {},
   "source": [
    "<hr style=\"border-width:2px;border-color:#094780\">\n",
    "<center><h1> Build your own objects </h1></center>\n",
    "<hr style=\"border-width:2px;border-color:#094780\">"
   ]
  },
  {
   "cell_type": "markdown",
   "id": "62a31fe0-659d-4ea0-8cd5-0b2a5e711ce4",
   "metadata": {},
   "source": [
    "## Introduction to Object-Oriented Programming (OOP) <a id=\"intro\"></a>\n",
    "\n",
    "Object‑Oriented Programming (OOP) is a way of structuring programs around **objects**—bundles of *state* (data/attributes) and *behavior* (functions/methods) that act together. Instead of writing one long script that passes lots of variables around (procedural style), OOP lets you model the world in terms of **classes** (blueprints) and **instances** (concrete objects created from those blueprints).\n",
    "\n",
    "Why this matters:\n",
    "- **Modularity & readability** – related data and functions live together inside a class.\n",
    "- **Reusability** – you can create many instances from the same class and extend behavior via inheritance or composition.\n",
    "- **Maintainability** – changes localize to the class that owns the behavior.\n",
    "- **Domain modeling** – classes map cleanly to real‑world concepts (e.g., `Rectangle`, `Account`, `Loan`).\n",
    "\n",
    "The four core OOP ideas you will see in this lab:\n",
    "- **Encapsulation** – keep an object’s internals (attributes) controlled behind methods/properties.\n",
    "- **Abstraction** – expose only what users of your class need; hide unnecessary details.\n",
    "- **Inheritance** – define a new class by specializing an existing one.\n",
    "- **Polymorphism** – code that works with a *general* interface (e.g., a `.fly()` method) can accept many different concrete types.\n",
    "\n",
    "> Python is a *dynamic, duck‑typed* language: you rarely declare types in the class body, and if two objects provide the methods you need, they’re interchangeable. Python also supports multiple inheritance (with care), and provides rich **special (“dunder”) methods** so your classes behave like built‑ins (e.g., support `+`, comparisons, iteration).\n",
    "\n",
    "### Summary :\n",
    "- Classes & Objects\n",
    "- Attributes\n",
    "- Methods, self, and method types\n",
    "- Encapsulation\n",
    "- Inheritance\n",
    "- Overriding\n",
    "- Multiple Inheritance\n",
    "- Method Resolution Order (MRO)\n",
    "- Polymorphism\n",
    "- Composition\n"
   ]
  },
  {
   "cell_type": "markdown",
   "id": "aab62809-76ae-4d69-871f-137d202ff20e",
   "metadata": {},
   "source": [
    "## Classes & Objects <a id=\"C1\"></a>\n",
    "\n",
    "A **class** defines the *shape* of future objects: which attributes they have and which methods operate on them. An **instance** (object) is created by *calling* the class like a function (e.g., `Rectangle(3, 4)`).\n",
    "\n",
    "Key terms:\n",
    "- **Attributes** – data stored on the instance (e.g., `self.width`).\n",
    "- **Instance** – a specific object created from a class (e.g., `rect1`).\n",
    "- **Constructor** – the `__init__` method that runs immediately after the instance is created.\n",
    "- **Method** – a function defined inside a class; it automatically receives the instance as the first parameter, traditionally named `self`.\n",
    "\n",
    "**Linked code snippet (procedural vs OOP – `Rectangle`):**\n",
    "\n",
    "```python\n",
    "# Procedural\n",
    "def area_rectangle(width, height):\n",
    "    return width * height\n",
    "\n",
    "# OOP\n",
    "class Rectangle:\n",
    "    def __init__(self, width, height):\n",
    "        self.width = width        # instance attribute\n",
    "        self.height = height\n",
    "    def area(self):\n",
    "        return self.width * self.height\n",
    "```\n",
    "\n",
    "**Explanation:**\n",
    "- The procedural version requires you to pass `width` and `height` *every time*.\n",
    "- The OOP version **binds state to behavior**. After `rect = Rectangle(3, 4)`, the data lives *inside* `rect`, and `rect.area()` uses that state.\n",
    "- `__init__` assigns attributes on `self` so each instance can carry its own values.\n",
    "- If you later add `perimeter()` or `scale(factor)`, all behaviors remain grouped inside `Rectangle`—clean and maintainable.\n"
   ]
  },
  {
   "cell_type": "markdown",
   "id": "a0cd4353-3b96-436d-8d92-abf783f08264",
   "metadata": {},
   "source": [
    "## Attributes\n",
    "\n",
    "In Object-Oriented Programming, attributes are variables that belong to a class or an object and store its state or properties. Each instance attribute is tied to a specific object and can hold values unique to that instance (e.g., a Car object’s make and model). Class attributes, on the other hand, are shared across all instances of a class (e.g., wheels = 4 for all cars by default). Attributes are usually defined inside the __init__ method for instances, or directly in the class body for class-wide defaults. Together with methods, attributes define what an object “knows” and how it behaves."
   ]
  },
  {
   "cell_type": "code",
   "execution_count": 2,
   "id": "e142aeee-c5af-4647-9a58-6ce3a876b8e6",
   "metadata": {},
   "outputs": [
    {
     "name": "stdout",
     "output_type": "stream",
     "text": [
      "Toyota Corolla\n",
      "4\n"
     ]
    }
   ],
   "source": [
    "class Car:\n",
    "    # Class variable\n",
    "    wheels = 4\n",
    "\n",
    "    def __init__(self, make, model):\n",
    "        # Instance variables\n",
    "        self.make = make\n",
    "        self.model = model\n",
    "\n",
    "car1 = Car('Toyota', 'Corolla')\n",
    "print(car1.make, car1.model)  # Output: Toyota Corolla\n",
    "print(car1.wheels)  # Output: 4\n"
   ]
  },
  {
   "cell_type": "markdown",
   "id": "8cee0b2a-5296-41a1-92ba-7a717519b023",
   "metadata": {},
   "source": [
    "## Methods, `self`, and method types <a id=\"C2\"></a>\n",
    "In Object-Oriented Programming, methods are functions defined inside a class that describe the behaviors or actions an object can perform. Unlike regular functions, methods automatically take the object itself as their first parameter (conventionally named self), which allows them to access and modify the object’s attributes. Methods can be of different types: instance methods (operate on a specific object), class methods (operate on the class as a whole, using cls), and static methods (utility functions that belong to the class but don’t need access to self or cls). In short, methods define what an object can do and how it interacts with its own data or with other objects.\n",
    "\n",
    "`self` is the **instance being operated on**. Python passes it automatically to instance methods; you just write `def method(self, ...)`.\n",
    "\n",
    "There are **three** common method flavors:\n",
    "\n",
    "1) **Instance methods** (default and most important) – operate on *a specific object* and can read/write `self`:\n",
    "```python\n",
    "class Calculator:\n",
    "    def add(self, x, y):\n",
    "        return x + y\n",
    "```\n",
    "\n",
    ">(NB The following methods are not of high importance for our labs - still, good to know\n",
    "\n",
    "2) **Class methods** – operate on the *class itself*; the first parameter is conventionally `cls`. Use for **alternative constructors** or behavior tied to the class, not any one instance:\n",
    "```python\n",
    "class Calculator:\n",
    "    @classmethod\n",
    "    def info(cls):\n",
    "        return \"This is a calculator class\"\n",
    "```\n",
    "\n",
    "3) **Static methods** – namespace a helper function on the class; they don’t touch `self` or `cls`:\n",
    "```python\n",
    "class Calculator:\n",
    "    @staticmethod\n",
    "    def subtract(x, y):\n",
    "        return x - y\n",
    "```\n",
    "\n",
    "**Linked code snippet (`Calculator`):**\n",
    "```python\n",
    "class Calculator:\n",
    "    def add(self, x, y):\n",
    "        return x + y\n",
    "    \n",
    "    @staticmethod\n",
    "    def subtract(x, y):\n",
    "        return x - y\n",
    "\n",
    "    @classmethod\n",
    "    def info(cls):\n",
    "        return \"This is a calculator class\"\n",
    "```\n",
    "- `add` is an **instance method** (requires an instance: `Calculator().add(5, 3)`).\n",
    "- `subtract` is a **static method** (call via `Calculator.subtract(5, 3)`).\n",
    "- `info` is a **class method** (call via `Calculator.info()`).\n",
    "\n",
    "### Class vs. instance attributes\n",
    "A **class attribute** is shared by *all* instances; an **instance attribute** belongs to just one object.\n",
    "\n",
    "**Linked code snippet (`Car` – class vs instance attributes):**\n",
    "```python\n",
    "class Car:\n",
    "    # class attribute\n",
    "    wheels = 4\n",
    "\n",
    "    def __init__(self, make, model):\n",
    "        # instance attributes\n",
    "        self.make = make\n",
    "        self.model = model\n",
    "\n",
    "car1 = Car('Toyota', 'Corolla')\n",
    "print(car1.make, car1.model)   # instance data\n",
    "print(car1.wheels)             # falls back to class attribute (4)\n",
    "```\n",
    "\n",
    "Attribute lookup order: **instance → class → base classes**. If you set `car1.wheels = 6`, you create an *instance attribute* that shadows the class attribute *only for that object*.\n"
   ]
  },
  {
   "cell_type": "code",
   "execution_count": 3,
   "id": "f6abf01b-a6dc-470d-b9b2-72924c490d84",
   "metadata": {},
   "outputs": [
    {
     "name": "stdout",
     "output_type": "stream",
     "text": [
      "8\n",
      "2\n",
      "This is a calculator class\n"
     ]
    }
   ],
   "source": [
    "class Calculator:\n",
    "    def add(self, x, y):\n",
    "        return x + y\n",
    "    \n",
    "    @staticmethod\n",
    "    def subtract(x, y):\n",
    "        return x - y\n",
    "\n",
    "    @classmethod\n",
    "    def info(cls):\n",
    "        return \"This is a calculator class\"\n",
    "\n",
    "print(Calculator().add(5, 3))       # Output: 8\n",
    "print(Calculator.subtract(5, 3))    # Output: 2\n",
    "print(Calculator.info())            # Output: This is a calculator class\n"
   ]
  },
  {
   "cell_type": "markdown",
   "id": "d701dbfb-30c8-432e-9009-64d2e32da7c6",
   "metadata": {},
   "source": [
    "## Encapsulation <a id=\"C3\"></a>\n",
    "\n",
    "Encapsulation in Object-Oriented Programming is the practice of bundling data (attributes) and the methods that operate on that data into a single unit (the class), while also restricting direct access to the object’s internal state. Instead of letting external code freely change an object’s variables, encapsulation enforces controlled access through well-defined interfaces (like getters, setters, or properties). This protects the integrity of the data, prevents unintended side effects, and makes the class easier to maintain or update without breaking external code.\n",
    "\n",
    "This means an object controls access to its internal state. In Python we rely on **conventions** more than hard access modifiers:\n",
    "\n",
    "\n",
    "- `public`: no underscore – intended API (e.g., `obj.name`).\n",
    "- `_protected`: single underscore – “internal use”; please don’t touch outside the class.\n",
    "- `__private`: double underscore – triggers **name mangling** to reduce accidental access: `obj._ClassName__attr`.\n",
    "\n",
    "**Linked code snippet (`Employee` – private data with getters/setters):**\n",
    "```python\n",
    "class Employee:\n",
    "    def __init__(self, name, salary):\n",
    "        self.name = name\n",
    "        self.__salary = salary  # private (name-mangled)\n",
    "\n",
    "    def get_salary(self):\n",
    "        return self.__salary\n",
    "\n",
    "    def set_salary(self, new_salary):\n",
    "        if new_salary > 0:\n",
    "            self.__salary = new_salary\n",
    "```\n",
    "- `__salary` becomes `_Employee__salary` behind the scenes (name‑mangling). This discourages (but doesn’t forbid) outside access.\n",
    "- The methods validate before mutating state.\n"
   ]
  },
  {
   "cell_type": "code",
   "execution_count": 5,
   "id": "a5558d94-70d0-409a-80ee-33568482c816",
   "metadata": {},
   "outputs": [
    {
     "name": "stdout",
     "output_type": "stream",
     "text": [
      "50000\n",
      "60000\n"
     ]
    }
   ],
   "source": [
    "class Employee:\n",
    "    def __init__(self, name, salary):\n",
    "        self.name = name\n",
    "        self.__salary = salary  # Private variable\n",
    "\n",
    "    def get_salary(self):\n",
    "        return self.__salary\n",
    "\n",
    "    def set_salary(self, new_salary):\n",
    "        if new_salary > 0:\n",
    "            self.__salary = new_salary\n",
    "\n",
    "emp = Employee(\"Alice\", 50000)\n",
    "print(emp.get_salary())  # Output: 50000\n",
    "emp.set_salary(60000)\n",
    "print(emp.get_salary())  # Output: 60000\n"
   ]
  },
  {
   "cell_type": "markdown",
   "id": "a5156c32-33a6-4347-a24c-55fc8ff99100",
   "metadata": {},
   "source": [
    "## Inheritance\n",
    "#### Definition:\n",
    "Inheritance is an Object-Oriented Programming (OOP) mechanism that allows a new class (called a child class or subclass) to acquire the attributes and methods of an existing class (called a parent class or base class). This lets us reuse code and establish a natural hierarchy between classes.\n",
    "\n",
    "#### Explanation:\n",
    "Instead of duplicating code across multiple related classes, inheritance enables you to define common behavior in a base class and then extend or specialize it in subclasses. This reduces repetition, makes your code more organized, and reflects real-world hierarchies. However, inheritance should only be used when the relationship is truly is-a (e.g., a Dog is an Animal). If the relationship is has-a (e.g., a Car has an Engine), then composition is more appropriate."
   ]
  },
  {
   "cell_type": "code",
   "execution_count": 2,
   "id": "14b9debb-f652-4de6-b839-feabb2f4aeca",
   "metadata": {},
   "outputs": [
    {
     "name": "stdout",
     "output_type": "stream",
     "text": [
      "Buddy is eating.\n",
      "Buddy is barking!\n"
     ]
    }
   ],
   "source": [
    "class Animal:\n",
    "    def __init__(self, name):\n",
    "        self.name = name\n",
    "    \n",
    "    def eat(self):\n",
    "        print(f\"{self.name} is eating.\")\n",
    "\n",
    "class Dog(Animal):  # Dog *inherits* from Animal\n",
    "    def bark(self):\n",
    "        print(f\"{self.name} is barking!\")\n",
    "\n",
    "dog = Dog(\"Buddy\")\n",
    "dog.eat()   # Inherited from Animal\n",
    "dog.bark()  # Defined in Dog"
   ]
  },
  {
   "cell_type": "markdown",
   "id": "042a411f-aba4-481d-80f9-f2a50ef1cad1",
   "metadata": {},
   "source": [
    "> Here, Dog inherits the eat() method from Animal, so you don’t have to redefine it. At the same time, Dog can add new behaviors like bark()."
   ]
  },
  {
   "cell_type": "markdown",
   "id": "a88b3cb7-e2c9-4c23-996a-c5a69ce50335",
   "metadata": {},
   "source": [
    "## Overriding\n",
    "\n",
    "#### Definition:\n",
    "Method overriding occurs when a subclass provides its own implementation of a method that already exists in the parent class.\n",
    "\n",
    "#### Explanation:\n",
    "Overriding allows you to customize or extend behavior while still keeping the same interface. This is crucial for polymorphism—the ability to treat objects of different subclasses uniformly while still getting their specialized behavior. The super() function can be used inside an overridden method to call the parent’s implementation if you want to extend rather than completely replace it."
   ]
  },
  {
   "cell_type": "code",
   "execution_count": null,
   "id": "50f74fa6-96a8-42e5-81f7-77b324b45d54",
   "metadata": {},
   "outputs": [],
   "source": [
    "class Animal:\n",
    "    def speak(self):\n",
    "        print(\"This animal makes a sound.\")\n",
    "\n",
    "class Dog(Animal):\n",
    "    def speak(self):  # Override speak()\n",
    "        print(\"The dog barks.\")\n",
    "\n",
    "class Cat(Animal):\n",
    "    def speak(self):  # Override speak()\n",
    "        print(\"The cat meows.\")\n",
    "\n",
    "animals = [Dog(), Cat()]\n",
    "for animal in animals:\n",
    "    animal.speak()   # Calls the overridden version depending on the object\n"
   ]
  },
  {
   "cell_type": "markdown",
   "id": "80738811-768b-4b47-b782-28dfd4711f3c",
   "metadata": {},
   "source": [
    "> Explanation of Example:\n",
    "Both Dog and Cat override speak().\n",
    "When you iterate over animals, Python determines which version to call at runtime.\n",
    "This allows different behaviors under the same method name—a powerful feature of OOP."
   ]
  },
  {
   "cell_type": "markdown",
   "id": "54f2ddaf-2dfd-4222-8ea6-8fc22f4081ed",
   "metadata": {},
   "source": [
    "## Multiple Inheritance\n",
    "\n",
    "#### Definition:\n",
    "Multiple inheritance allows a class to inherit from more than one parent class.\n",
    "\n",
    "#### Explanation:\n",
    "This can be useful when you want a class to combine behaviors from multiple sources (e.g., a FlyingFish inherits from both Fish and Bird). However, multiple inheritance can become complex if parent classes define the same attributes/methods, leading to ambiguity. Python resolves this ambiguity using the Method Resolution Order (MRO)."
   ]
  },
  {
   "cell_type": "code",
   "execution_count": 4,
   "id": "cd29839c-cf38-4809-9626-1c4f1df5493e",
   "metadata": {},
   "outputs": [
    {
     "name": "stdout",
     "output_type": "stream",
     "text": [
      "I can fly.\n",
      "I can swim.\n",
      "I will fly.\n"
     ]
    }
   ],
   "source": [
    "class Flyer:\n",
    "    def canFly(self):\n",
    "        print(\"I can fly.\")\n",
    "    def move(self):\n",
    "        print(\"I will fly.\")\n",
    "\n",
    "class Swimmer:\n",
    "    def canSwim(self):\n",
    "        print(\"I can swim.\")\n",
    "    def move(self):\n",
    "        print(\"I will swim.\")\n",
    "\n",
    "class Duck(Flyer, Swimmer):\n",
    "    pass\n",
    "\n",
    "d = Duck()\n",
    "d.canFly()\n",
    "d.canSwim()\n",
    "d.move()\n"
   ]
  },
  {
   "cell_type": "markdown",
   "id": "46b06b83-2517-41a3-819f-e35771e6cee5",
   "metadata": {},
   "source": [
    "> Duck inherits from both Flyer and Swimmer.\n",
    "- Child class inherits canFly() from Flyer and canSwim() from Swimmer.\n",
    "- Both parents define move(). Python resolves this conflict using MRO: it checks Flyer first, so I can fly. is printed.\n",
    "- You can reorder the parents in the class definition (class Duck(Swimmer, Flyer)) to change behavior."
   ]
  },
  {
   "cell_type": "markdown",
   "id": "ba8ef25a-d6e2-43de-8d64-4fa291e20393",
   "metadata": {},
   "source": [
    "## Method Resolution Order (MRO)\n",
    "\n",
    "#### Definition:\n",
    "MRO is the order in which Python looks for a method or attribute when it is called on an object.\n",
    "\n",
    "#### Explanation:\n",
    "When you call a method, Python first checks the object’s class. If it’s not found, it checks the parent classes in the order specified, then their parents, and so on, until it reaches the base object class. Python uses the C3 linearization algorithm to compute this order in multiple inheritance cases, ensuring consistent resolution."
   ]
  },
  {
   "cell_type": "code",
   "execution_count": 5,
   "id": "2781a1a5-c403-4ff3-930d-309dae12989f",
   "metadata": {},
   "outputs": [
    {
     "name": "stdout",
     "output_type": "stream",
     "text": [
      "Hello from B\n",
      "[<class '__main__.D'>, <class '__main__.B'>, <class '__main__.C'>, <class '__main__.A'>, <class 'object'>]\n"
     ]
    }
   ],
   "source": [
    "class A:\n",
    "    def greet(self): print(\"Hello from A\")\n",
    "\n",
    "class B(A):\n",
    "    def greet(self): print(\"Hello from B\")\n",
    "\n",
    "class C(A):\n",
    "    def greet(self): print(\"Hello from C\")\n",
    "\n",
    "class D(B, C):\n",
    "    pass\n",
    "\n",
    "d = D()\n",
    "d.greet()           # \"Hello from B\"\n",
    "print(D.mro())      # [D, B, C, A, object]\n"
   ]
  },
  {
   "cell_type": "markdown",
   "id": "2954c1a1-2fc1-477d-bc4e-1b6b6796de68",
   "metadata": {},
   "source": [
    "- D inherits from both B and C.\n",
    "- Python looks in D → B → C → A → object.\n",
    "- That’s why Hello from B is printed.\n",
    "- The .mro() method shows the search order explicitly."
   ]
  },
  {
   "cell_type": "markdown",
   "id": "e43adb51-dbfb-445e-910e-095be8db8f78",
   "metadata": {},
   "source": [
    "## Polymorphism \n",
    "\n",
    "#### Definition:\n",
    "Polymorphism in OOP means that the same operation or method name can be applied to different types of objects, and each object responds in its own way.\n",
    "\n",
    "#### Explanation:\n",
    "Instead of writing separate functions for each type, you write one general piece of code that works for many objects. Polymorphism is the backbone of flexibility in OOP: it allows you to treat different classes through a common interface.\n",
    "\n",
    "In Python, polymorphism happens in two main ways:\n",
    "\n",
    "Method overriding (inheritance-based polymorphism): subclasses override a base method to provide specific behavior.\n",
    "\n",
    "Duck typing (structural polymorphism): Python doesn’t care about the type of the object, only that it has the required method or behavior."
   ]
  },
  {
   "cell_type": "code",
   "execution_count": 6,
   "id": "86f919b1-70bf-41de-9396-3a90ef4910ba",
   "metadata": {},
   "outputs": [
    {
     "name": "stdout",
     "output_type": "stream",
     "text": [
      "Processing credit card payment of $50\n",
      "Processing PayPal payment of $75\n"
     ]
    }
   ],
   "source": [
    "class Payment:\n",
    "    def pay(self, amount):\n",
    "        raise NotImplementedError(\"Subclass must implement this method\")\n",
    "\n",
    "class CreditCardPayment(Payment):\n",
    "    def pay(self, amount):\n",
    "        print(f\"Processing credit card payment of ${amount}\")\n",
    "\n",
    "class PayPalPayment(Payment):\n",
    "    def pay(self, amount):\n",
    "        print(f\"Processing PayPal payment of ${amount}\")\n",
    "\n",
    "def checkout(payment_method, amount):\n",
    "    payment_method.pay(amount)\n",
    "\n",
    "checkout(CreditCardPayment(), 50)\n",
    "checkout(PayPalPayment(), 75)\n"
   ]
  },
  {
   "cell_type": "markdown",
   "id": "fa4ef2e7-bbbe-4696-925c-82b2c6d4c586",
   "metadata": {},
   "source": [
    "- Both CreditCardPayment and PayPalPayment share the same interface (pay), but each implements it differently.\n",
    "- The checkout function doesn’t need to know which type it’s working with — it just calls .pay(amount).\n",
    "- This makes the code easy to extend: add BitcoinPayment or BankTransferPayment later without touching checkout.\n",
    "\n",
    "> Why it matters: Polymorphism lets you write generic code while still allowing specific, customized behavior."
   ]
  },
  {
   "cell_type": "markdown",
   "id": "1f3805b3-0878-4350-8515-bf6289650870",
   "metadata": {},
   "source": [
    "## Composition\n",
    "\n",
    "#### Definition:\n",
    "Composition is the principle of building classes by combining smaller, reusable components (objects of other classes) rather than inheriting from a parent class.\n",
    "\n",
    "#### Explanation:\n",
    "Whereas inheritance answers “is-a” (a Dog is an Animal), composition answers “has-a” (a Car has an Engine). This approach is more flexible, because you can swap components without changing the containing class. Composition encourages modularity, code reuse, and avoids the rigid hierarchies that come with deep inheritance chains."
   ]
  },
  {
   "cell_type": "code",
   "execution_count": 7,
   "id": "54c18b95-f9b3-4c67-b5c7-3545595f2f2c",
   "metadata": {},
   "outputs": [
    {
     "name": "stdout",
     "output_type": "stream",
     "text": [
      "Petrol engine roaring to life!\n",
      "Electric engine humming quietly!\n"
     ]
    }
   ],
   "source": [
    "class PetrolEngine:\n",
    "    def start(self):\n",
    "        print(\"Petrol engine roaring to life!\")\n",
    "\n",
    "class ElectricEngine:\n",
    "    def start(self):\n",
    "        print(\"Electric engine humming quietly!\")\n",
    "\n",
    "class Car:\n",
    "    def __init__(self, engine):\n",
    "        self.engine = engine   # Car *has* an Engine\n",
    "    \n",
    "    def start(self):\n",
    "        self.engine.start()\n",
    "\n",
    "# Using composition with different components\n",
    "petrol_car = Car(PetrolEngine())\n",
    "electric_car = Car(ElectricEngine())\n",
    "\n",
    "petrol_car.start()   # Petrol engine roaring to life!\n",
    "electric_car.start() # Electric engine humming quietly!\n"
   ]
  },
  {
   "cell_type": "markdown",
   "id": "6dede837-ed1a-4255-a06f-94f7c2758ebf",
   "metadata": {},
   "source": [
    "## Exercises"
   ]
  },
  {
   "cell_type": "markdown",
   "id": "397d5caf-2015-4074-8686-6b489a52b613",
   "metadata": {},
   "source": [
    "\n",
    "**Exercise 1: Account Class**\n",
    "\n",
    "Create a class `Account` that represents a bank account. The class should have the following attributes:\n",
    "- `account_number` (a unique identifier),\n",
    "- `balance` (initially set to 0),\n",
    "- `account_holder` (name of the account holder).\n",
    "\n",
    "The class should have the following methods:\n",
    "- `deposit(amount)` to add money to the account,\n",
    "- `withdraw(amount)` to deduct money from the account (if sufficient balance),\n",
    "- `get_balance()` to print the current balance.\n"
   ]
  },
  {
   "cell_type": "code",
   "execution_count": null,
   "id": "a53246ca-67d5-4285-9f44-c2fc7dda496f",
   "metadata": {},
   "outputs": [],
   "source": []
  },
  {
   "cell_type": "markdown",
   "id": "dcf0a730",
   "metadata": {},
   "source": [
    "**Exercise 2: Stock Class**\n",
    "\n",
    "Create a class `Stock` to represent a stock in the stock market. Each stock should have the following attributes:\n",
    "- `symbol` (e.g., \"AAPL\" for Apple),\n",
    "- `price_per_share` (the current price of a share),\n",
    "- `shares_owned` (the number of shares the user owns).\n",
    "\n",
    "The class should have the following methods:\n",
    "- `buy_shares(quantity)` to increase the number of shares owned,\n",
    "- `sell_shares(quantity)` to decrease the number of shares (if the user owns enough),\n",
    "- `total_value()` to calculate and return the total value of the shares owned (price per share * number of shares).\n"
   ]
  },
  {
   "cell_type": "code",
   "execution_count": null,
   "id": "d3ee14eb-79b0-4830-842a-22d490436a7b",
   "metadata": {},
   "outputs": [],
   "source": []
  },
  {
   "cell_type": "markdown",
   "id": "4daba73c",
   "metadata": {},
   "source": [
    "**Exercise 3: Loan Class**\n",
    "\n",
    "Create a class `Loan` that represents a loan taken by a customer. The class should have the following attributes:\n",
    "- `principal` (the initial loan amount),\n",
    "- `annual_interest_rate` (interest rate as a decimal, e.g., 0.05 for 5%),\n",
    "- `term_years` (the number of years for the loan).\n",
    "\n",
    "The class should have the following methods:\n",
    "- `monthly_payment()` to calculate and return the monthly payment based on the formula for a fixed-rate loan:\n",
    "  $$\n",
    "  \\text{Monthly Payment} = \\frac{P \\cdot r}{1 - (1 + r)^{-n}}\n",
    "  $$\n",
    "  Where:\n",
    "  - \\( P \\) = principal,\n",
    "  - \\( r \\) = monthly interest rate (annual rate / 12),\n",
    "  - \\( n \\) = total number of months (years * 12).\n",
    "  \n",
    "- `total_payment()` to return the total amount to be repaid over the entire loan term (monthly payment * number of months).\n"
   ]
  },
  {
   "cell_type": "code",
   "execution_count": null,
   "id": "99034e0d-0850-4b00-93fc-90925950c535",
   "metadata": {},
   "outputs": [],
   "source": []
  },
  {
   "cell_type": "markdown",
   "id": "ac83f843",
   "metadata": {},
   "source": [
    "**Exercise 4: Derivative and Stock Classes**\n",
    "\n",
    "Create a base class `Asset` that represents a financial asset. Then, create two subclasses, `Stock` and `Derivative`, that inherit from `Asset`. Each class will have specific attributes and methods related to market finance.\n",
    "\n",
    "Requirements:\n",
    "\n",
    "1. **Base Class: Asset**\n",
    "   - Attributes:\n",
    "     - `symbol` (e.g., \"AAPL\" for Apple stock).\n",
    "   - Method:\n",
    "     - `current_value()` should be implemented in the subclasses.\n",
    "\n",
    "2. **Subclass: Stock**\n",
    "   - Inherits from `Asset`.\n",
    "   - Additional Attributes:\n",
    "     - `price_per_share` (current price of a stock),\n",
    "     - `shares_owned` (number of shares owned).\n",
    "   - Method:\n",
    "     - `current_value()` that returns the total value of the stock (`price_per_share * shares_owned`).\n",
    "\n",
    "3. **Subclass: Derivative**\n",
    "   - Inherits from `Asset`.\n",
    "   - Additional Attributes:\n",
    "     - `underlying_asset` (an instance of `Stock` representing the stock that the derivative is based on),\n",
    "     - `multiplier` (a factor that scales the value of the derivative based on the underlying asset).\n",
    "   - Method:\n",
    "     - `current_value()` that returns the value of the derivative (`multiplier * underlying_asset.current_value()`).\n",
    "\n",
    "\n"
   ]
  },
  {
   "cell_type": "code",
   "execution_count": null,
   "id": "b895097b-0598-4d2b-9e24-55693a9e4ffa",
   "metadata": {},
   "outputs": [],
   "source": []
  },
  {
   "cell_type": "markdown",
   "id": "35fe6b21",
   "metadata": {},
   "source": [
    "**Exercise 5: Bond and CorporateBond Classes**\n",
    "\n",
    "In this exercise, you will create a system to model different types of bonds. There will be a base class `Bond` and a subclass `CorporateBond` to represent corporate bonds that come with a specific risk rating.\n",
    "\n",
    "Requirements:\n",
    "\n",
    "1. **Base Class: Bond**\n",
    "   - Attributes:\n",
    "     - `face_value` (the value paid at maturity, e.g., $1000),\n",
    "     - `coupon_rate` (the annual coupon rate, e.g., 0.05 for 5%),\n",
    "     - `years_to_maturity` (the number of years until the bond matures).\n",
    "   - Methods:\n",
    "     - `annual_coupon()` that returns the annual coupon payment (`face_value * coupon_rate`).\n",
    "     - `present_value()` that returns the present value of the bond, assuming a discount rate (`discount_rate` passed as a parameter).\n",
    "\n",
    "2. **Subclass: CorporateBond**\n",
    "   - Inherits from `Bond`.\n",
    "   - Additional Attributes:\n",
    "     - `rating` (the risk rating of the corporate bond, e.g., \"AAA\", \"BBB\").\n",
    "   - Override Method:\n",
    "     - Override `present_value()` to apply a **premium** or **discount** based on the bond's risk rating. \n",
    "     - Premium/Discount:\n",
    "       - \"AAA\" bonds add a 2% premium to the face value.\n",
    "       - \"BBB\" bonds subtract a 2% discount from the face value.\n"
   ]
  },
  {
   "cell_type": "code",
   "execution_count": null,
   "id": "5f7577d8-ce44-4135-b9f3-bc9b26b5d7d5",
   "metadata": {},
   "outputs": [],
   "source": []
  }
 ],
 "metadata": {
  "kernelspec": {
   "display_name": "Python 3 (ipykernel)",
   "language": "python",
   "name": "python3"
  },
  "language_info": {
   "codemirror_mode": {
    "name": "ipython",
    "version": 3
   },
   "file_extension": ".py",
   "mimetype": "text/x-python",
   "name": "python",
   "nbconvert_exporter": "python",
   "pygments_lexer": "ipython3",
   "version": "3.13.7"
  }
 },
 "nbformat": 4,
 "nbformat_minor": 5
}
